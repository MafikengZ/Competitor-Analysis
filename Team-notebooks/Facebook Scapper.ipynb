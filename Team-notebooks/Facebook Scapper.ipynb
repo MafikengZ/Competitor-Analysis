{
 "cells": [
  {
   "cell_type": "code",
   "execution_count": 1,
   "id": "3c48eddf",
   "metadata": {},
   "outputs": [
    {
     "name": "stdout",
     "output_type": "stream",
     "text": [
      "Collecting git+https://github.com/shaikhsajid1111/facebook_page_scraper.gitNote: you may need to restart the kernel to use updated packages.\n"
     ]
    },
    {
     "name": "stderr",
     "output_type": "stream",
     "text": [
      "  Running command git clone --filter=blob:none --quiet https://github.com/shaikhsajid1111/facebook_page_scraper.git 'C:\\Users\\Mfundo\\AppData\\Local\\Temp\\pip-req-build-gcnioys8'\n"
     ]
    },
    {
     "name": "stdout",
     "output_type": "stream",
     "text": [
      "\n",
      "  Cloning https://github.com/shaikhsajid1111/facebook_page_scraper.git to c:\\users\\mfundo\\appdata\\local\\temp\\pip-req-build-gcnioys8\n",
      "  Resolved https://github.com/shaikhsajid1111/facebook_page_scraper.git to commit ef184eda0cf9014918ade57c795d4ce2596e3607\n",
      "  Preparing metadata (setup.py): started\n",
      "  Preparing metadata (setup.py): finished with status 'done'\n",
      "Requirement already satisfied: selenium==4.1.0 in c:\\users\\mfundo\\anaconda3\\lib\\site-packages (from facebook-page-scraper==2.0.2) (4.1.0)\n",
      "Requirement already satisfied: webdriver-manager==3.2.2 in c:\\users\\mfundo\\anaconda3\\lib\\site-packages (from facebook-page-scraper==2.0.2) (3.2.2)\n",
      "Requirement already satisfied: selenium-wire==4.3.1 in c:\\users\\mfundo\\anaconda3\\lib\\site-packages (from facebook-page-scraper==2.0.2) (4.3.1)\n",
      "Requirement already satisfied: python-dateutil==2.8.2 in c:\\users\\mfundo\\anaconda3\\lib\\site-packages (from facebook-page-scraper==2.0.2) (2.8.2)\n",
      "Requirement already satisfied: six>=1.5 in c:\\users\\mfundo\\anaconda3\\lib\\site-packages (from python-dateutil==2.8.2->facebook-page-scraper==2.0.2) (1.15.0)\n",
      "Requirement already satisfied: trio-websocket~=0.9 in c:\\users\\mfundo\\anaconda3\\lib\\site-packages (from selenium==4.1.0->facebook-page-scraper==2.0.2) (0.9.2)\n",
      "Requirement already satisfied: urllib3[secure]~=1.26 in c:\\users\\mfundo\\anaconda3\\lib\\site-packages (from selenium==4.1.0->facebook-page-scraper==2.0.2) (1.26.4)\n",
      "Requirement already satisfied: trio~=0.17 in c:\\users\\mfundo\\anaconda3\\lib\\site-packages (from selenium==4.1.0->facebook-page-scraper==2.0.2) (0.20.0)\n",
      "Requirement already satisfied: h2>=4.0 in c:\\users\\mfundo\\anaconda3\\lib\\site-packages (from selenium-wire==4.3.1->facebook-page-scraper==2.0.2) (4.1.0)\n",
      "Requirement already satisfied: blinker>=1.4 in c:\\users\\mfundo\\anaconda3\\lib\\site-packages (from selenium-wire==4.3.1->facebook-page-scraper==2.0.2) (1.4)\n",
      "Requirement already satisfied: pyOpenSSL>=19.1.0 in c:\\users\\mfundo\\anaconda3\\lib\\site-packages (from selenium-wire==4.3.1->facebook-page-scraper==2.0.2) (20.0.1)\n",
      "Requirement already satisfied: wsproto>=0.14 in c:\\users\\mfundo\\anaconda3\\lib\\site-packages (from selenium-wire==4.3.1->facebook-page-scraper==2.0.2) (1.1.0)\n",
      "Requirement already satisfied: certifi>=2019.9.11 in c:\\users\\mfundo\\anaconda3\\lib\\site-packages (from selenium-wire==4.3.1->facebook-page-scraper==2.0.2) (2021.10.8)\n",
      "Requirement already satisfied: hyperframe>=6.0 in c:\\users\\mfundo\\anaconda3\\lib\\site-packages (from selenium-wire==4.3.1->facebook-page-scraper==2.0.2) (6.0.1)\n",
      "Requirement already satisfied: pysocks>=1.7.1 in c:\\users\\mfundo\\anaconda3\\lib\\site-packages (from selenium-wire==4.3.1->facebook-page-scraper==2.0.2) (1.7.1)\n",
      "Requirement already satisfied: pydivert>=2.0.3 in c:\\users\\mfundo\\anaconda3\\lib\\site-packages (from selenium-wire==4.3.1->facebook-page-scraper==2.0.2) (2.1.0)\n",
      "Requirement already satisfied: kaitaistruct>=0.7 in c:\\users\\mfundo\\anaconda3\\lib\\site-packages (from selenium-wire==4.3.1->facebook-page-scraper==2.0.2) (0.9)\n",
      "Requirement already satisfied: pyparsing>=2.4.2 in c:\\users\\mfundo\\anaconda3\\lib\\site-packages (from selenium-wire==4.3.1->facebook-page-scraper==2.0.2) (2.4.7)\n",
      "Requirement already satisfied: pyasn1>=0.3.1 in c:\\users\\mfundo\\anaconda3\\lib\\site-packages (from selenium-wire==4.3.1->facebook-page-scraper==2.0.2) (0.4.8)\n",
      "Requirement already satisfied: requests in c:\\users\\mfundo\\anaconda3\\lib\\site-packages (from webdriver-manager==3.2.2->facebook-page-scraper==2.0.2) (2.27.1)\n",
      "Requirement already satisfied: configparser in c:\\users\\mfundo\\anaconda3\\lib\\site-packages (from webdriver-manager==3.2.2->facebook-page-scraper==2.0.2) (5.2.0)\n",
      "Requirement already satisfied: crayons in c:\\users\\mfundo\\anaconda3\\lib\\site-packages (from webdriver-manager==3.2.2->facebook-page-scraper==2.0.2) (0.4.0)\n",
      "Requirement already satisfied: hpack<5,>=4.0 in c:\\users\\mfundo\\anaconda3\\lib\\site-packages (from h2>=4.0->selenium-wire==4.3.1->facebook-page-scraper==2.0.2) (4.0.0)\n",
      "Requirement already satisfied: cryptography>=3.2 in c:\\users\\mfundo\\anaconda3\\lib\\site-packages (from pyOpenSSL>=19.1.0->selenium-wire==4.3.1->facebook-page-scraper==2.0.2) (3.4.7)\n",
      "Requirement already satisfied: sortedcontainers in c:\\users\\mfundo\\anaconda3\\lib\\site-packages (from trio~=0.17->selenium==4.1.0->facebook-page-scraper==2.0.2) (2.3.0)\n",
      "Requirement already satisfied: outcome in c:\\users\\mfundo\\anaconda3\\lib\\site-packages (from trio~=0.17->selenium==4.1.0->facebook-page-scraper==2.0.2) (1.1.0)\n",
      "Requirement already satisfied: async-generator>=1.9 in c:\\users\\mfundo\\anaconda3\\lib\\site-packages (from trio~=0.17->selenium==4.1.0->facebook-page-scraper==2.0.2) (1.10)\n",
      "Requirement already satisfied: sniffio in c:\\users\\mfundo\\anaconda3\\lib\\site-packages (from trio~=0.17->selenium==4.1.0->facebook-page-scraper==2.0.2) (1.2.0)\n",
      "Requirement already satisfied: cffi>=1.14 in c:\\users\\mfundo\\anaconda3\\lib\\site-packages (from trio~=0.17->selenium==4.1.0->facebook-page-scraper==2.0.2) (1.14.5)\n",
      "Requirement already satisfied: attrs>=19.2.0 in c:\\users\\mfundo\\anaconda3\\lib\\site-packages (from trio~=0.17->selenium==4.1.0->facebook-page-scraper==2.0.2) (20.3.0)\n",
      "Requirement already satisfied: idna in c:\\users\\mfundo\\anaconda3\\lib\\site-packages (from trio~=0.17->selenium==4.1.0->facebook-page-scraper==2.0.2) (2.10)\n",
      "Requirement already satisfied: h11<1,>=0.9.0 in c:\\users\\mfundo\\anaconda3\\lib\\site-packages (from wsproto>=0.14->selenium-wire==4.3.1->facebook-page-scraper==2.0.2) (0.13.0)\n",
      "Requirement already satisfied: colorama in c:\\users\\mfundo\\anaconda3\\lib\\site-packages (from crayons->webdriver-manager==3.2.2->facebook-page-scraper==2.0.2) (0.4.4)\n",
      "Requirement already satisfied: charset-normalizer~=2.0.0 in c:\\users\\mfundo\\anaconda3\\lib\\site-packages (from requests->webdriver-manager==3.2.2->facebook-page-scraper==2.0.2) (2.0.12)\n",
      "Requirement already satisfied: pycparser in c:\\users\\mfundo\\anaconda3\\lib\\site-packages (from cffi>=1.14->trio~=0.17->selenium==4.1.0->facebook-page-scraper==2.0.2) (2.20)\n"
     ]
    }
   ],
   "source": [
    "pip install git+https://github.com/shaikhsajid1111/facebook_page_scraper.git"
   ]
  },
  {
   "cell_type": "code",
   "execution_count": 1,
   "id": "a7fae77e",
   "metadata": {},
   "outputs": [],
   "source": [
    "#import Facebook_scraper class from facebook_page_scraper\n",
    "from facebook_page_scraper import Facebook_scraper"
   ]
  },
  {
   "cell_type": "code",
   "execution_count": 4,
   "id": "b73914a8",
   "metadata": {},
   "outputs": [],
   "source": [
    "page_name = \"GetSmarterShortCourses\"\n",
    "posts_count = 1000000\n",
    "browser = \"chrome\"\n",
    "proxy = \"IP:PORT\" #if proxy requires authentication then user:password@IP:PORT\n",
    "timeout = 3000 #6000 seconds\n",
    "GetSmarterShortCourses_ai = Facebook_scraper(page_name,posts_count,browser,proxy=proxy,timeout=timeout)"
   ]
  },
  {
   "cell_type": "code",
   "execution_count": null,
   "id": "92afdbed",
   "metadata": {},
   "outputs": [
    {
     "name": "stdout",
     "output_type": "stream",
     "text": [
      "Using: IP:PORT\n"
     ]
    },
    {
     "name": "stderr",
     "output_type": "stream",
     "text": [
      "[WDM] - Current google-chrome version is 100.0.4896\n",
      "[WDM] - Get LATEST driver version for 100.0.4896\n"
     ]
    },
    {
     "name": "stdout",
     "output_type": "stream",
     "text": [
      " \n"
     ]
    },
    {
     "name": "stderr",
     "output_type": "stream",
     "text": [
      "[WDM] - Driver [C:\\Users\\Mfundo\\.wdm\\drivers\\chromedriver\\win32\\100.0.4896.60\\chromedriver.exe] found in cache\n"
     ]
    }
   ],
   "source": [
    "filename = \"GetSmarterShortCourses\"  #file name without CSV extension,where data will be saved\n",
    "directory = \"C:\\data\" #directory where CSV file will be saved\n",
    "GetSmarterShortCourses_ai.scrap_to_csv(filename,directory)"
   ]
  },
  {
   "cell_type": "code",
   "execution_count": null,
   "id": "40af543e",
   "metadata": {},
   "outputs": [
    {
     "name": "stdout",
     "output_type": "stream",
     "text": [
      "Using: IP:PORT\n"
     ]
    },
    {
     "name": "stderr",
     "output_type": "stream",
     "text": [
      "[WDM] - Current google-chrome version is 100.0.4896\n",
      "[WDM] - Get LATEST driver version for 100.0.4896\n"
     ]
    },
    {
     "name": "stdout",
     "output_type": "stream",
     "text": [
      " \n"
     ]
    },
    {
     "name": "stderr",
     "output_type": "stream",
     "text": [
      "[WDM] - Driver [C:\\Users\\Mfundo\\.wdm\\drivers\\chromedriver\\win32\\100.0.4896.60\\chromedriver.exe] found in cache\n"
     ]
    },
    {
     "name": "stdout",
     "output_type": "stream",
     "text": [
      "error at close_modern_layout_signup_modal: Message: stale element reference: element is not attached to the page document\n",
      "  (Session info: headless chrome=100.0.4896.127)\n",
      "Stacktrace:\n",
      "Backtrace:\n",
      "\tOrdinal0 [0x00487413+2389011]\n",
      "\tOrdinal0 [0x00419F61+1941345]\n",
      "\tOrdinal0 [0x0030C658+837208]\n",
      "\tOrdinal0 [0x0030F064+847972]\n",
      "\tOrdinal0 [0x0030EF22+847650]\n",
      "\tOrdinal0 [0x0030F1B0+848304]\n",
      "\tOrdinal0 [0x0033D24C+1036876]\n",
      "\tOrdinal0 [0x0033B5EB+1029611]\n",
      "\tOrdinal0 [0x0033A359+1024857]\n",
      "\tOrdinal0 [0x0032FF93+982931]\n",
      "\tOrdinal0 [0x0035414C+1130828]\n",
      "\tOrdinal0 [0x0032F974+981364]\n",
      "\tOrdinal0 [0x00354364+1131364]\n",
      "\tOrdinal0 [0x00364302+1196802]\n",
      "\tOrdinal0 [0x00353F66+1130342]\n",
      "\tOrdinal0 [0x0032E546+976198]\n",
      "\tOrdinal0 [0x0032F456+980054]\n",
      "\tGetHandleVerifier [0x00639632+1727522]\n",
      "\tGetHandleVerifier [0x006EBA4D+2457661]\n",
      "\tGetHandleVerifier [0x0051EB81+569713]\n",
      "\tGetHandleVerifier [0x0051DD76+566118]\n",
      "\tOrdinal0 [0x00420B2B+1968939]\n",
      "\tOrdinal0 [0x00425988+1989000]\n",
      "\tOrdinal0 [0x00425A75+1989237]\n",
      "\tOrdinal0 [0x0042ECB1+2026673]\n",
      "\tBaseThreadInitThunk [0x76D1FA29+25]\n",
      "\tRtlGetAppContainerNamedObjectPath [0x77217A7E+286]\n",
      "\tRtlGetAppContainerNamedObjectPath [0x77217A4E+238]\n",
      "\n"
     ]
    }
   ],
   "source": [
    "page_name = \"Coursera\"\n",
    "posts_count = 1000\n",
    "browser = \"chrome\"\n",
    "proxy = \"IP:PORT\" #if proxy requires authentication then user:password@IP:PORT\n",
    "timeout = 1500 #6000 seconds\n",
    "meta_ai = Facebook_scraper(page_name,posts_count,browser,proxy=proxy,timeout=timeout)\n",
    "\n",
    "filename = \"Coursera\"  #file name without CSV extension,where data will be saved\n",
    "directory = \"C:\\data\" #directory where CSV file will be saved\n",
    "meta_ai.scrap_to_csv(filename,directory)"
   ]
  },
  {
   "cell_type": "code",
   "execution_count": null,
   "id": "66a264d0",
   "metadata": {
    "scrolled": true
   },
   "outputs": [
    {
     "name": "stdout",
     "output_type": "stream",
     "text": [
      "Using: IP:PORT\n"
     ]
    },
    {
     "name": "stderr",
     "output_type": "stream",
     "text": [
      "[WDM] - Current google-chrome version is 100.0.4896\n",
      "[WDM] - Get LATEST driver version for 100.0.4896\n"
     ]
    },
    {
     "name": "stdout",
     "output_type": "stream",
     "text": [
      " \n"
     ]
    },
    {
     "name": "stderr",
     "output_type": "stream",
     "text": [
      "[WDM] - Driver [C:\\Users\\Mfundo\\.wdm\\drivers\\chromedriver\\win32\\100.0.4896.60\\chromedriver.exe] found in cache\n"
     ]
    },
    {
     "name": "stdout",
     "output_type": "stream",
     "text": [
      "error at close_modern_layout_signup_modal: Message: timeout: Timed out receiving message from renderer: 300.000\n",
      "  (Session info: headless chrome=100.0.4896.127)\n",
      "Stacktrace:\n",
      "Backtrace:\n",
      "\tOrdinal0 [0x009D7413+2389011]\n",
      "\tOrdinal0 [0x00969F61+1941345]\n",
      "\tOrdinal0 [0x0085C658+837208]\n",
      "\tOrdinal0 [0x0084DB80+777088]\n",
      "\tOrdinal0 [0x0084C995+772501]\n",
      "\tOrdinal0 [0x0084CF98+774040]\n",
      "\tOrdinal0 [0x0085796F+817519]\n",
      "\tOrdinal0 [0x0086243B+861243]\n",
      "\tOrdinal0 [0x00864E10+871952]\n",
      "\tOrdinal0 [0x0084D266+774758]\n",
      "\tOrdinal0 [0x00862289+860809]\n",
      "\tOrdinal0 [0x008B4227+1196583]\n",
      "\tOrdinal0 [0x008A3F66+1130342]\n",
      "\tOrdinal0 [0x0087E546+976198]\n",
      "\tOrdinal0 [0x0087F456+980054]\n",
      "\tGetHandleVerifier [0x00B89632+1727522]\n",
      "\tGetHandleVerifier [0x00C3BA4D+2457661]\n",
      "\tGetHandleVerifier [0x00A6EB81+569713]\n",
      "\tGetHandleVerifier [0x00A6DD76+566118]\n",
      "\tOrdinal0 [0x00970B2B+1968939]\n",
      "\tOrdinal0 [0x00975988+1989000]\n",
      "\tOrdinal0 [0x00975A75+1989237]\n",
      "\tOrdinal0 [0x0097ECB1+2026673]\n",
      "\tBaseThreadInitThunk [0x76D1FA29+25]\n",
      "\tRtlGetAppContainerNamedObjectPath [0x77217A7E+286]\n",
      "\tRtlGetAppContainerNamedObjectPath [0x77217A4E+238]\n",
      "\n",
      "error at close_modern_layout_signup_modal: Message: script timeout\n",
      "  (Session info: headless chrome=100.0.4896.127)\n",
      "Stacktrace:\n",
      "Backtrace:\n",
      "\tOrdinal0 [0x009D7413+2389011]\n",
      "\tOrdinal0 [0x00969F61+1941345]\n",
      "\tOrdinal0 [0x0085C520+836896]\n",
      "\tOrdinal0 [0x008B4D75+1199477]\n",
      "\tOrdinal0 [0x008A414C+1130828]\n",
      "\tOrdinal0 [0x008B4302+1196802]\n",
      "\tOrdinal0 [0x008A3F66+1130342]\n",
      "\tOrdinal0 [0x0087E546+976198]\n",
      "\tOrdinal0 [0x0087F456+980054]\n",
      "\tGetHandleVerifier [0x00B89632+1727522]\n",
      "\tGetHandleVerifier [0x00C3BA4D+2457661]\n",
      "\tGetHandleVerifier [0x00A6EB81+569713]\n",
      "\tGetHandleVerifier [0x00A6DD76+566118]\n",
      "\tOrdinal0 [0x00970B2B+1968939]\n",
      "\tOrdinal0 [0x00975988+1989000]\n",
      "\tOrdinal0 [0x00975A75+1989237]\n",
      "\tOrdinal0 [0x0097ECB1+2026673]\n",
      "\tBaseThreadInitThunk [0x76D1FA29+25]\n",
      "\tRtlGetAppContainerNamedObjectPath [0x77217A7E+286]\n",
      "\tRtlGetAppContainerNamedObjectPath [0x77217A4E+238]\n",
      "\n",
      "error at close_driver method : Message: chrome not reachable\n",
      "  (Session info: headless chrome=100.0.4896.127)\n",
      "Stacktrace:\n",
      "Backtrace:\n",
      "\tOrdinal0 [0x009D7413+2389011]\n",
      "\tOrdinal0 [0x00969F61+1941345]\n",
      "\tOrdinal0 [0x0085C520+836896]\n",
      "\tOrdinal0 [0x00850682+788098]\n",
      "\tOrdinal0 [0x008440F1+737521]\n",
      "\tOrdinal0 [0x008AA490+1156240]\n",
      "\tOrdinal0 [0x008A4113+1130771]\n",
      "\tOrdinal0 [0x0087E546+976198]\n",
      "\tOrdinal0 [0x0087F456+980054]\n",
      "\tGetHandleVerifier [0x00B89632+1727522]\n",
      "\tGetHandleVerifier [0x00C3BA4D+2457661]\n",
      "\tGetHandleVerifier [0x00A6EB81+569713]\n",
      "\tGetHandleVerifier [0x00A6DD76+566118]\n",
      "\tOrdinal0 [0x00970B2B+1968939]\n",
      "\tOrdinal0 [0x00975988+1989000]\n",
      "\tOrdinal0 [0x00975A75+1989237]\n",
      "\tOrdinal0 [0x0097ECB1+2026673]\n",
      "\tBaseThreadInitThunk [0x76D1FA29+25]\n",
      "\tRtlGetAppContainerNamedObjectPath [0x77217A7E+286]\n",
      "\tRtlGetAppContainerNamedObjectPath [0x77217A4E+238]\n",
      "\n",
      "error at scroll_down method : Message: timeout: Timed out receiving message from renderer: 300.000\n",
      "  (Session info: headless chrome=100.0.4896.127)\n",
      "Stacktrace:\n",
      "Backtrace:\n",
      "\tOrdinal0 [0x009D7413+2389011]\n",
      "\tOrdinal0 [0x00969F61+1941345]\n",
      "\tOrdinal0 [0x0085C658+837208]\n",
      "\tOrdinal0 [0x0084DB80+777088]\n",
      "\tOrdinal0 [0x0084C995+772501]\n",
      "\tOrdinal0 [0x0084CF98+774040]\n",
      "\tOrdinal0 [0x0085796F+817519]\n",
      "\tOrdinal0 [0x0086243B+861243]\n",
      "\tOrdinal0 [0x00864E10+871952]\n",
      "\tOrdinal0 [0x0084D266+774758]\n",
      "\tOrdinal0 [0x00862289+860809]\n",
      "\tOrdinal0 [0x008B4227+1196583]\n",
      "\tOrdinal0 [0x008A3F66+1130342]\n",
      "\tOrdinal0 [0x0087E546+976198]\n",
      "\tOrdinal0 [0x0087F456+980054]\n",
      "\tGetHandleVerifier [0x00B89632+1727522]\n",
      "\tGetHandleVerifier [0x00C3BA4D+2457661]\n",
      "\tGetHandleVerifier [0x00A6EB81+569713]\n",
      "\tGetHandleVerifier [0x00A6DD76+566118]\n",
      "\tOrdinal0 [0x00970B2B+1968939]\n",
      "\tOrdinal0 [0x00975988+1989000]\n",
      "\tOrdinal0 [0x00975A75+1989237]\n",
      "\tOrdinal0 [0x0097ECB1+2026673]\n",
      "\tBaseThreadInitThunk [0x76D1FA29+25]\n",
      "\tRtlGetAppContainerNamedObjectPath [0x77217A7E+286]\n",
      "\tRtlGetAppContainerNamedObjectPath [0x77217A4E+238]\n",
      "\n"
     ]
    }
   ],
   "source": [
    "page_name = \"nycdatascience\"\n",
    "posts_count = 1000000\n",
    "browser = \"chrome\"\n",
    "proxy = \"IP:PORT\" #if proxy requires authentication then user:password@IP:PORT\n",
    "timeout = 3000 #6000 seconds\n",
    "nycdatascience_ai = Facebook_scraper(page_name,posts_count,browser,proxy=proxy,timeout=timeout)\n",
    "\n",
    "filename = \"nycdatascience\"  #file name without CSV extension,where data will be saved\n",
    "directory = \"C:\\data\" #directory where CSV file will be saved\n",
    "nycdatascience_ai.scrap_to_csv(filename,directory)"
   ]
  },
  {
   "cell_type": "code",
   "execution_count": 20,
   "id": "bf45de28",
   "metadata": {},
   "outputs": [
    {
     "name": "stdout",
     "output_type": "stream",
     "text": [
      "Using: IP:PORT\n"
     ]
    },
    {
     "name": "stderr",
     "output_type": "stream",
     "text": [
      "[WDM] - Current google-chrome version is 100.0.4896\n",
      "INFO:WDM:Current google-chrome version is 100.0.4896\n",
      "[WDM] - Get LATEST driver version for 100.0.4896\n",
      "INFO:WDM:Get LATEST driver version for 100.0.4896\n"
     ]
    },
    {
     "name": "stdout",
     "output_type": "stream",
     "text": [
      " \n"
     ]
    },
    {
     "name": "stderr",
     "output_type": "stream",
     "text": [
      "[WDM] - Driver [C:\\Users\\Mfundo\\.wdm\\drivers\\chromedriver\\win32\\100.0.4896.60\\chromedriver.exe] found in cache\n",
      "INFO:WDM:Driver [C:\\Users\\Mfundo\\.wdm\\drivers\\chromedriver\\win32\\100.0.4896.60\\chromedriver.exe] found in cache\n"
     ]
    },
    {
     "data": {
      "text/plain": [
       "True"
      ]
     },
     "execution_count": 20,
     "metadata": {},
     "output_type": "execute_result"
    }
   ],
   "source": [
    "page_name = \"Udacity\"\n",
    "posts_count = 1000\n",
    "browser = \"chrome\"\n",
    "proxy = \"IP:PORT\" #if proxy requires authentication then user:password@IP:PORT\n",
    "timeout = 1500 #6000 seconds\n",
    "meta_ai = Facebook_scraper(page_name,posts_count,browser,proxy=proxy,timeout=timeout)\n",
    "\n",
    "filename = \"Udacity\"  #file name without CSV extension,where data will be saved\n",
    "directory = \"C:\\data\" #directory where CSV file will be saved\n",
    "meta_ai.scrap_to_csv(filename,directory)"
   ]
  },
  {
   "cell_type": "code",
   "execution_count": 17,
   "id": "7bcdd782",
   "metadata": {},
   "outputs": [
    {
     "name": "stdout",
     "output_type": "stream",
     "text": [
      "Using: IP:PORT\n"
     ]
    },
    {
     "name": "stderr",
     "output_type": "stream",
     "text": [
      "[WDM] - Current google-chrome version is 100.0.4896\n",
      "INFO:WDM:Current google-chrome version is 100.0.4896\n",
      "[WDM] - Get LATEST driver version for 100.0.4896\n",
      "INFO:WDM:Get LATEST driver version for 100.0.4896\n",
      "[WDM] - Driver [C:\\Users\\Mfundo\\.wdm\\drivers\\chromedriver\\win32\\100.0.4896.60\\chromedriver.exe] found in cache\n",
      "INFO:WDM:Driver [C:\\Users\\Mfundo\\.wdm\\drivers\\chromedriver\\win32\\100.0.4896.60\\chromedriver.exe] found in cache\n"
     ]
    },
    {
     "name": "stdout",
     "output_type": "stream",
     "text": [
      " \n"
     ]
    },
    {
     "data": {
      "text/plain": [
       "True"
      ]
     },
     "execution_count": 17,
     "metadata": {},
     "output_type": "execute_result"
    }
   ],
   "source": [
    "page_name = \"GetSmarterShortCourses\"\n",
    "posts_count = 1000\n",
    "browser = \"chrome\"\n",
    "proxy = \"IP:PORT\" #if proxy requires authentication then user:password@IP:PORT\n",
    "timeout = 1500 #6000 seconds\n",
    "meta_ai = Facebook_scraper(page_name,posts_count,browser,proxy=proxy,timeout=timeout)\n",
    "\n",
    "filename = \"GetSmarterShortCourses\"  #file name without CSV extension,where data will be saved\n",
    "directory = \"C:\\data\" #directory where CSV file will be saved\n",
    "meta_ai.scrap_to_csv(filename,directory)"
   ]
  },
  {
   "cell_type": "code",
   "execution_count": 12,
   "id": "af6541ec",
   "metadata": {},
   "outputs": [
    {
     "name": "stdout",
     "output_type": "stream",
     "text": [
      "Using: IP:PORT\n"
     ]
    },
    {
     "name": "stderr",
     "output_type": "stream",
     "text": [
      "[WDM] - Current google-chrome version is 100.0.4896\n",
      "INFO:WDM:Current google-chrome version is 100.0.4896\n",
      "[WDM] - Get LATEST driver version for 100.0.4896\n",
      "INFO:WDM:Get LATEST driver version for 100.0.4896\n"
     ]
    },
    {
     "name": "stdout",
     "output_type": "stream",
     "text": [
      " \n"
     ]
    },
    {
     "name": "stderr",
     "output_type": "stream",
     "text": [
      "[WDM] - Driver [C:\\Users\\Mfundo\\.wdm\\drivers\\chromedriver\\win32\\100.0.4896.60\\chromedriver.exe] found in cache\n",
      "INFO:WDM:Driver [C:\\Users\\Mfundo\\.wdm\\drivers\\chromedriver\\win32\\100.0.4896.60\\chromedriver.exe] found in cache\n"
     ]
    },
    {
     "data": {
      "text/plain": [
       "True"
      ]
     },
     "execution_count": 12,
     "metadata": {},
     "output_type": "execute_result"
    }
   ],
   "source": [
    "page_name = \"Simplilearn\"\n",
    "posts_count = 1000\n",
    "browser = \"chrome\"\n",
    "proxy = \"IP:PORT\" #if proxy requires authentication then user:password@IP:PORT\n",
    "timeout = 1500 #6000 seconds\n",
    "meta_ai = Facebook_scraper(page_name,posts_count,browser,proxy=proxy,timeout=timeout)\n",
    "\n",
    "filename = \"Simplilearn\"  #file name without CSV extension,where data will be saved\n",
    "directory = \"C:\\data\" #directory where CSV file will be saved\n",
    "meta_ai.scrap_to_csv(filename,directory)"
   ]
  },
  {
   "cell_type": "code",
   "execution_count": 13,
   "id": "e1972e7c",
   "metadata": {},
   "outputs": [
    {
     "name": "stdout",
     "output_type": "stream",
     "text": [
      "Using: IP:PORT\n"
     ]
    },
    {
     "name": "stderr",
     "output_type": "stream",
     "text": [
      "[WDM] - Current google-chrome version is 100.0.4896\n",
      "INFO:WDM:Current google-chrome version is 100.0.4896\n",
      "[WDM] - Get LATEST driver version for 100.0.4896\n",
      "INFO:WDM:Get LATEST driver version for 100.0.4896\n"
     ]
    },
    {
     "name": "stdout",
     "output_type": "stream",
     "text": [
      " \n"
     ]
    },
    {
     "name": "stderr",
     "output_type": "stream",
     "text": [
      "[WDM] - Driver [C:\\Users\\Mfundo\\.wdm\\drivers\\chromedriver\\win32\\100.0.4896.60\\chromedriver.exe] found in cache\n",
      "INFO:WDM:Driver [C:\\Users\\Mfundo\\.wdm\\drivers\\chromedriver\\win32\\100.0.4896.60\\chromedriver.exe] found in cache\n"
     ]
    },
    {
     "data": {
      "text/plain": [
       "True"
      ]
     },
     "execution_count": 13,
     "metadata": {},
     "output_type": "execute_result"
    }
   ],
   "source": [
    "page_name = \"moringaschool\"\n",
    "posts_count = 1000\n",
    "browser = \"chrome\"\n",
    "proxy = \"IP:PORT\" #if proxy requires authentication then user:password@IP:PORT\n",
    "timeout = 1500 #6000 seconds\n",
    "meta_ai = Facebook_scraper(page_name,posts_count,browser,proxy=proxy,timeout=timeout)\n",
    "\n",
    "filename = \"moringaschool\"  #file name without CSV extension,where data will be saved\n",
    "directory = \"C:\\data\" #directory where CSV file will be saved\n",
    "meta_ai.scrap_to_csv(filename,directory)"
   ]
  },
  {
   "cell_type": "code",
   "execution_count": 14,
   "id": "bbfd937a",
   "metadata": {},
   "outputs": [
    {
     "name": "stdout",
     "output_type": "stream",
     "text": [
      "Using: IP:PORT\n"
     ]
    },
    {
     "name": "stderr",
     "output_type": "stream",
     "text": [
      "[WDM] - Current google-chrome version is 100.0.4896\n",
      "INFO:WDM:Current google-chrome version is 100.0.4896\n",
      "[WDM] - Get LATEST driver version for 100.0.4896\n",
      "INFO:WDM:Get LATEST driver version for 100.0.4896\n",
      "[WDM] - Driver [C:\\Users\\Mfundo\\.wdm\\drivers\\chromedriver\\win32\\100.0.4896.60\\chromedriver.exe] found in cache\n",
      "INFO:WDM:Driver [C:\\Users\\Mfundo\\.wdm\\drivers\\chromedriver\\win32\\100.0.4896.60\\chromedriver.exe] found in cache\n"
     ]
    },
    {
     "name": "stdout",
     "output_type": "stream",
     "text": [
      " \n"
     ]
    },
    {
     "data": {
      "text/plain": [
       "True"
      ]
     },
     "execution_count": 14,
     "metadata": {},
     "output_type": "execute_result"
    }
   ],
   "source": [
    "page_name = \"AfricaDataSchool\"\n",
    "posts_count = 1000\n",
    "browser = \"chrome\"\n",
    "proxy = \"IP:PORT\" #if proxy requires authentication then user:password@IP:PORT\n",
    "timeout = 1500 #6000 seconds\n",
    "meta_ai = Facebook_scraper(page_name,posts_count,browser,proxy=proxy,timeout=timeout)\n",
    "\n",
    "filename = \"AfricaDataSchool\"  #file name without CSV extension,where data will be saved\n",
    "directory = \"C:\\data\" #directory where CSV file will be saved\n",
    "meta_ai.scrap_to_csv(filename,directory)"
   ]
  },
  {
   "cell_type": "code",
   "execution_count": 15,
   "id": "021c2760",
   "metadata": {},
   "outputs": [
    {
     "name": "stdout",
     "output_type": "stream",
     "text": [
      "Using: IP:PORT\n"
     ]
    },
    {
     "name": "stderr",
     "output_type": "stream",
     "text": [
      "[WDM] - Current google-chrome version is 100.0.4896\n",
      "INFO:WDM:Current google-chrome version is 100.0.4896\n",
      "[WDM] - Get LATEST driver version for 100.0.4896\n",
      "INFO:WDM:Get LATEST driver version for 100.0.4896\n"
     ]
    },
    {
     "name": "stdout",
     "output_type": "stream",
     "text": [
      " \n"
     ]
    },
    {
     "name": "stderr",
     "output_type": "stream",
     "text": [
      "[WDM] - Driver [C:\\Users\\Mfundo\\.wdm\\drivers\\chromedriver\\win32\\100.0.4896.60\\chromedriver.exe] found in cache\n",
      "INFO:WDM:Driver [C:\\Users\\Mfundo\\.wdm\\drivers\\chromedriver\\win32\\100.0.4896.60\\chromedriver.exe] found in cache\n"
     ]
    },
    {
     "data": {
      "text/plain": [
       "True"
      ]
     },
     "execution_count": 15,
     "metadata": {},
     "output_type": "execute_result"
    }
   ],
   "source": [
    "page_name = \"ITAcademySouthAfrica\"\n",
    "posts_count = 1000\n",
    "browser = \"chrome\"\n",
    "proxy = \"IP:PORT\" #if proxy requires authentication then user:password@IP:PORT\n",
    "timeout = 1500 #6000 seconds\n",
    "meta_ai = Facebook_scraper(page_name,posts_count,browser,proxy=proxy,timeout=timeout)\n",
    "\n",
    "filename = \"ITAcademySouthAfrica\"  #file name without CSV extension,where data will be saved\n",
    "directory = \"C:\\data\" #directory where CSV file will be saved\n",
    "meta_ai.scrap_to_csv(filename,directory)"
   ]
  },
  {
   "cell_type": "code",
   "execution_count": 16,
   "id": "1cd5b601",
   "metadata": {},
   "outputs": [
    {
     "name": "stdout",
     "output_type": "stream",
     "text": [
      "Using: IP:PORT\n"
     ]
    },
    {
     "name": "stderr",
     "output_type": "stream",
     "text": [
      "[WDM] - Current google-chrome version is 100.0.4896\n",
      "INFO:WDM:Current google-chrome version is 100.0.4896\n",
      "[WDM] - Get LATEST driver version for 100.0.4896\n",
      "INFO:WDM:Get LATEST driver version for 100.0.4896\n"
     ]
    },
    {
     "name": "stdout",
     "output_type": "stream",
     "text": [
      " \n"
     ]
    },
    {
     "name": "stderr",
     "output_type": "stream",
     "text": [
      "[WDM] - Driver [C:\\Users\\Mfundo\\.wdm\\drivers\\chromedriver\\win32\\100.0.4896.60\\chromedriver.exe] found in cache\n",
      "INFO:WDM:Driver [C:\\Users\\Mfundo\\.wdm\\drivers\\chromedriver\\win32\\100.0.4896.60\\chromedriver.exe] found in cache\n"
     ]
    },
    {
     "data": {
      "text/plain": [
       "True"
      ]
     },
     "execution_count": 16,
     "metadata": {},
     "output_type": "execute_result"
    }
   ],
   "source": [
    "page_name = \"hyperiondev\"\n",
    "posts_count = 1000\n",
    "browser = \"chrome\"\n",
    "proxy = \"IP:PORT\" #if proxy requires authentication then user:password@IP:PORT\n",
    "timeout = 1500 #6000 seconds\n",
    "meta_ai = Facebook_scraper(page_name,posts_count,browser,proxy=proxy,timeout=timeout)\n",
    "\n",
    "filename = \"hyperiondev\"  #file name without CSV extension,where data will be saved\n",
    "directory = \"C:\\data\" #directory where CSV file will be saved\n",
    "meta_ai.scrap_to_csv(filename,directory)"
   ]
  },
  {
   "cell_type": "code",
   "execution_count": null,
   "id": "b795397b",
   "metadata": {},
   "outputs": [],
   "source": []
  },
  {
   "cell_type": "code",
   "execution_count": null,
   "id": "f7473ced",
   "metadata": {},
   "outputs": [],
   "source": []
  },
  {
   "cell_type": "code",
   "execution_count": null,
   "id": "f8be3133",
   "metadata": {},
   "outputs": [],
   "source": []
  }
 ],
 "metadata": {
  "kernelspec": {
   "display_name": "Python 3",
   "language": "python",
   "name": "python3"
  },
  "language_info": {
   "codemirror_mode": {
    "name": "ipython",
    "version": 3
   },
   "file_extension": ".py",
   "mimetype": "text/x-python",
   "name": "python",
   "nbconvert_exporter": "python",
   "pygments_lexer": "ipython3",
   "version": "3.8.8"
  }
 },
 "nbformat": 4,
 "nbformat_minor": 5
}
