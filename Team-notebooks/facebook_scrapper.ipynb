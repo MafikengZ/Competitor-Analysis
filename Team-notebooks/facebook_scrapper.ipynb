{
 "cells": [
  {
   "cell_type": "code",
   "execution_count": 1,
   "metadata": {},
   "outputs": [],
   "source": [
    "#imports here\n",
    "import re\n",
    "import selenium\n",
    "from selenium import webdriver\n",
    "from selenium.webdriver.common.keys import Keys\n",
    "from selenium.webdriver.support import expected_conditions as EC\n",
    "from selenium.webdriver.common.by import By\n",
    "from selenium.webdriver.support.wait import WebDriverWait\n",
    "\n",
    "from selenium.webdriver.chrome.options import Options\n",
    "from selenium.webdriver.support.ui import Select\n",
    "from webdriver_manager.chrome import ChromeDriverManager\n",
    "from selenium.webdriver.chrome.service import Service\n",
    "\n",
    "#import time libraries to add wait times\n",
    "from datetime import datetime\n",
    "from time import sleep\n",
    "\n",
    "#import beautifulsoup to read page html source code\n",
    "from bs4 import BeautifulSoup\n",
    "\n",
    "#pandas dataframe to csv file\n",
    "import pandas as pd"
   ]
  },
  {
   "cell_type": "code",
   "execution_count": 2,
   "metadata": {},
   "outputs": [],
   "source": [
    "#Disable chrome Notifications\n",
    "chrome_options = Options()\n",
    "chrome_options.add_argument(\"--disable-notifications\")"
   ]
  },
  {
   "cell_type": "code",
   "execution_count": 3,
   "metadata": {},
   "outputs": [],
   "source": [
    "from gazpacho import Soup"
   ]
  },
  {
   "cell_type": "code",
   "execution_count": 4,
   "metadata": {},
   "outputs": [
    {
     "name": "stderr",
     "output_type": "stream",
     "text": [
      "<ipython-input-4-c9c023f20966>:10: DeprecationWarning: executable_path has been deprecated, please pass in a Service object\n",
      "  driver = webdriver.Chrome('/home/nano-ai/chromedriver' , chrome_options=chrome_options)\n",
      "<ipython-input-4-c9c023f20966>:10: DeprecationWarning: use options instead of chrome_options\n",
      "  driver = webdriver.Chrome('/home/nano-ai/chromedriver' , chrome_options=chrome_options)\n"
     ]
    }
   ],
   "source": [
    "#Install latest chrome drivers\n",
    "#driver = webdriver.chrome(service=Service(ChromeDriverManager().install()))\n",
    "\n",
    "#Thanks stackoverflow @pythonjar\n",
    "#chrome_options = webdriver.ChromeOptions()\n",
    "prefs = {\"profile.default_content_setting_values.notifications\" : 2}\n",
    "chrome_options.add_experimental_option(\"prefs\",prefs)\n",
    "\n",
    "#specify the path to chromedriver.exe (download and save on your computer)\n",
    "driver = webdriver.Chrome('/home/nano-ai/chromedriver' , chrome_options=chrome_options)\n",
    "\n",
    "\n",
    "#open facebook page\n",
    "driver.get(\"https://www.facebook.com\")\n",
    "driver.maximize_window()\n",
    "sleep(2)"
   ]
  },
  {
   "cell_type": "code",
   "execution_count": 5,
   "metadata": {},
   "outputs": [
    {
     "name": "stdout",
     "output_type": "stream",
     "text": [
      "We are logged in!\n"
     ]
    }
   ],
   "source": [
    "#target username\n",
    "username = WebDriverWait(driver, 10).until(EC.element_to_be_clickable((By.CSS_SELECTOR, \"input[name='email']\")))\n",
    "password = WebDriverWait(driver, 10).until(EC.element_to_be_clickable((By.CSS_SELECTOR, \"input[name='pass']\")))\n",
    "\n",
    "#enter username and password\n",
    "username.clear()\n",
    "username.send_keys(\"0657207354\")\n",
    "password.clear()\n",
    "password.send_keys(\"competativeanalysis1234#\")\n",
    "\n",
    "#target the login button and click it\n",
    "button = WebDriverWait(driver, 2).until(EC.element_to_be_clickable((By.CSS_SELECTOR, \"button[type='submit']\"))).click()\n",
    "\n",
    "print(\"We are logged in!\")"
   ]
  },
  {
   "cell_type": "code",
   "execution_count": 6,
   "metadata": {},
   "outputs": [],
   "source": [
    "sleep(2)\n",
    "driver.get(\"https://www.facebook.com/Udacity\") # change group here\n",
    "sleep(4)"
   ]
  },
  {
   "cell_type": "code",
   "execution_count": 7,
   "metadata": {},
   "outputs": [],
   "source": [
    "#list of content\n",
    "posts = []\n",
    "links = []\n",
    "type_of_post =[] #identify by file extensions\n",
    "likes =[]\n",
    "shares = []\n",
    "comments= []\n",
    "timestamp = []"
   ]
  },
  {
   "cell_type": "code",
   "execution_count": 8,
   "metadata": {},
   "outputs": [],
   "source": [
    "while True:\n",
    "    soup=BeautifulSoup(driver.page_source,\"html.parser\")\n",
    "    all_posts=soup.find_all(\"div\",{\"class\":\"du4w35lb k4urcfbm l9j0dhe7 sjgh65i0\"})\n",
    "    for post in all_posts:\n",
    "        \n",
    "        try:\n",
    "            content = post.find(\"div\" , {\"class\":\"kvgmc6g5 cxmmr5t8 oygrvhab hcukyx3x c1et5uql ii04i59q\"})\n",
    "            content = content.find(text=True).strip()\n",
    "        except:\n",
    "            content = \"Content not Found!\"\n",
    "            \n",
    "        posts.append(content)\n",
    "        \n",
    "        try:\n",
    "            link = post.find(\"div\" , {\"class\":\"kvgmc6g5 cxmmr5t8 oygrvhab hcukyx3x c1et5uql ii04i59q\"})\n",
    "            link = link.find_all(class_='oajrlxb2 g5ia77u1 qu0x051f esr5mh6w e9989ue4 r7d6kgcz rq0escxv nhd2j8a9 nc684nl6 p7hjln8o kvgmc6g5 cxmmr5t8 oygrvhab hcukyx3x jb3vyjys rz4wbd8a qt6c0cv9 a8nywdso i1ao9s8h esuyzwwr f1sip0of lzcic4wl gpro0wi8 py34i1dx', href=True)\n",
    "            link = link.get('href')\n",
    "        except:\n",
    "            link = \"Links not found!\"\n",
    "        links.append(link)\n",
    "        \n",
    "        \n",
    "        try:\n",
    "            like = post.find_all(\"span\",{\"class\":\"oajrlxb2 g5ia77u1 qu0x051f esr5mh6w e9989ue4 r7d6kgcz rq0escxv nhd2j8a9 p7hjln8o kvgmc6g5 cxmmr5t8 oygrvhab hcukyx3x jb3vyjys rz4wbd8a qt6c0cv9 a8nywdso i1ao9s8h esuyzwwr f1sip0of n00je7tq arfg74bv qs9ysxi8 k77z8yql l9j0dhe7 abiwlrkh p8dawk7l lzcic4wl gmql0nx0 ce9h75a5 ni8dbmo4 stjgntxs a8c37x1j\"})\n",
    "            like = like.find(\"span\" , {\"class\":\"pcp91wgn\"})\n",
    "            like = like.find(text=True).strip()\n",
    "        except:\n",
    "            like =\"Likes not found!\"\n",
    "        likes.append(like)\n",
    "        \n",
    "        try:\n",
    "            share = post.find(\"span\",{\"class\":\"d2edcug0 hpfvmrgz qv66sw1b c1et5uql b0tq1wua a8c37x1j fe6kdd0r mau55g9w c8b282yb keod5gw0 nxhoafnm aigsh9s9 d9wwppkn hrzyx87i jq4qci2q a3bd9o3v b1v8xokw m9osqain\"})\n",
    "            share = share.get_text()\n",
    "            \n",
    "        except:\n",
    "            share =\"Shares not found!\"\n",
    "    \n",
    "        shares.append(share)\n",
    "        \n",
    "        try:\n",
    "            comment = post.find(\"span\",{\"class\":\"d2edcug0 hpfvmrgz qv66sw1b c1et5uql b0tq1wua a8c37x1j fe6kdd0r mau55g9w c8b282yb keod5gw0 nxhoafnm aigsh9s9 d9wwppkn hrzyx87i jq4qci2q a3bd9o3v b1v8xokw m9osqain\"})\n",
    "            comment = comment.get_text()\n",
    "            \n",
    "        except:\n",
    "            comment =\"Shares not found!\"\n",
    "    \n",
    "        comments.append(comment)\n",
    "        \n",
    "        try:\n",
    "            time = post.find(\"a\",{\"class\":\"oajrlxb2 g5ia77u1 qu0x051f esr5mh6w e9989ue4 r7d6kgcz rq0escxv nhd2j8a9 nc684nl6 p7hjln8o kvgmc6g5 cxmmr5t8 oygrvhab hcukyx3x jb3vyjys rz4wbd8a qt6c0cv9 a8nywdso i1ao9s8h esuyzwwr f1sip0of lzcic4wl gmql0nx0 gpro0wi8 b1v8xokw\"})\n",
    "            time = time.find_all('span')\n",
    "        except:\n",
    "            time =\"Shares not found!\"\n",
    "    \n",
    "        timestamp.append(time)\n",
    "        \n",
    "            \n",
    "        attr = {\"Posts\":posts , \"Links\":links , \n",
    "                \"Likes\":likes ,\"Comments\":comments, \n",
    "                \"Shares\":shares, \"Time\": timestamp}\n",
    "        \n",
    "        data = pd.DataFrame(attr)\n",
    "\n",
    "        data.drop_duplicates(subset=\"Posts\" , keep=\"first\" , inplace=True)\n",
    "        data.to_csv(\"Facebook_Udacity.csv\")\n",
    "\n",
    "\n",
    "\n",
    "        if data.shape[0]>20:\n",
    "            break\n",
    "    if data.shape[0]>20 :\n",
    "            break\n",
    "# sleep(5)\n",
    "# scrolls = 500\n",
    "# for timer in range(0, 25):\n",
    "#     driver.execute_script(\"window.ScrollTo(0, \"+ str(scrolls)+\")\")\n",
    "#     scrolls += 500\n",
    "#     sleep(3)"
   ]
  },
  {
   "cell_type": "code",
   "execution_count": 9,
   "metadata": {},
   "outputs": [
    {
     "ename": "SyntaxError",
     "evalue": "invalid syntax (<ipython-input-9-32e8dabf380f>, line 1)",
     "output_type": "error",
     "traceback": [
      "\u001b[0;36m  File \u001b[0;32m\"<ipython-input-9-32e8dabf380f>\"\u001b[0;36m, line \u001b[0;32m1\u001b[0m\n\u001b[0;31m    <a aria-label=\"2 d\" class=\"oajrlxb2 g5ia77u1 qu0x051f esr5mh6w e9989ue4 r7d6kgcz rq0escxv nhd2j8a9 nc684nl6 p7hjln8o kvgmc6g5 cxmmr5t8 oygrvhab hcukyx3x jb3vyjys rz4wbd8a qt6c0cv9 a8nywdso i1ao9s8h esuyzwwr f1sip0of lzcic4wl gmql0nx0 gpro0wi8 b1v8xokw\" href=\"https://www.facebook.com/Udacity/posts/4590686901036612?__cft__[0]=AZXbfqKcGsB99-Z4pWsENwelsore_1tJtvCaWc3tk3KSotQGZVQFJunZ3YjdMxkdubJAHuK_ats62BQtjiSAhmx-iTklMPKpWJwJAb67Ainbh6SfMsEqA6CcrfHu___g7CwOnIU601V7bGgSk6ywasqS&amp;__tn__=%2CO%2CP-R\" role=\"link\" tabindex=\"0\"><span>2 d</span></a>\u001b[0m\n\u001b[0m    ^\u001b[0m\n\u001b[0;31mSyntaxError\u001b[0m\u001b[0;31m:\u001b[0m invalid syntax\n"
     ]
    }
   ],
   "source": [
    "<a aria-label=\"2 d\" class=\"oajrlxb2 g5ia77u1 qu0x051f esr5mh6w e9989ue4 r7d6kgcz rq0escxv nhd2j8a9 nc684nl6 p7hjln8o kvgmc6g5 cxmmr5t8 oygrvhab hcukyx3x jb3vyjys rz4wbd8a qt6c0cv9 a8nywdso i1ao9s8h esuyzwwr f1sip0of lzcic4wl gmql0nx0 gpro0wi8 b1v8xokw\" href=\"https://www.facebook.com/Udacity/posts/4590686901036612?__cft__[0]=AZXbfqKcGsB99-Z4pWsENwelsore_1tJtvCaWc3tk3KSotQGZVQFJunZ3YjdMxkdubJAHuK_ats62BQtjiSAhmx-iTklMPKpWJwJAb67Ainbh6SfMsEqA6CcrfHu___g7CwOnIU601V7bGgSk6ywasqS&amp;__tn__=%2CO%2CP-R\" role=\"link\" tabindex=\"0\"><span>2 d</span></a>"
   ]
  },
  {
   "cell_type": "code",
   "execution_count": null,
   "metadata": {},
   "outputs": [],
   "source": [
    "<span class=\"pcp91wgn\">5</span>"
   ]
  },
  {
   "cell_type": "code",
   "execution_count": null,
   "metadata": {},
   "outputs": [],
   "source": [
    "<span class=\"d2edcug0 hpfvmrgz qv66sw1b c1et5uql b0tq1wua a8c37x1j fe6kdd0r mau55g9w c8b282yb keod5gw0 nxhoafnm aigsh9s9 d9wwppkn hrzyx87i jq4qci2q a3bd9o3v b1v8xokw m9osqain\" dir=\"auto\">2 shares</span>"
   ]
  },
  {
   "cell_type": "code",
   "execution_count": null,
   "metadata": {},
   "outputs": [],
   "source": [
    "<span class=\"d2edcug0 hpfvmrgz qv66sw1b c1et5uql b0tq1wua a8c37x1j fe6kdd0r mau55g9w c8b282yb keod5gw0 nxhoafnm aigsh9s9 d9wwppkn hrzyx87i jq4qci2q a3bd9o3v b1v8xokw m9osqain\" dir=\"auto\">1 comment</span>"
   ]
  }
 ],
 "metadata": {
  "kernelspec": {
   "display_name": "Python 3",
   "language": "python",
   "name": "python3"
  },
  "language_info": {
   "codemirror_mode": {
    "name": "ipython",
    "version": 3
   },
   "file_extension": ".py",
   "mimetype": "text/x-python",
   "name": "python",
   "nbconvert_exporter": "python",
   "pygments_lexer": "ipython3",
   "version": "3.8.3"
  }
 },
 "nbformat": 4,
 "nbformat_minor": 4
}
