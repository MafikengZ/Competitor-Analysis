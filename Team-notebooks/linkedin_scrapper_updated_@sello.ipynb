{
 "cells": [
  {
   "cell_type": "markdown",
   "metadata": {},
   "source": [
    "## Competative Social Media Analysis\n",
    "\n",
    "**Explore Data Science Academy** wants to develop a marketing startegy to ensure that all social media content posted reaches the inteded target market or audiance and that our social media market are growing in engagement and also analysing our growing social media engagement as compared to the competitors."
   ]
  },
  {
   "cell_type": "markdown",
   "metadata": {},
   "source": [
    "#### Import Standard libraries"
   ]
  },
  {
   "cell_type": "code",
   "execution_count": 124,
   "metadata": {},
   "outputs": [
    {
     "name": "stderr",
     "output_type": "stream",
     "text": [
      "[nltk_data] Error loading maxent_ne_chunker: <urlopen error [Errno -2]\n",
      "[nltk_data]     Name or service not known>\n"
     ]
    }
   ],
   "source": [
    "import re\n",
    "import csv\n",
    "import pandas as pd\n",
    "\n",
    "import selenium\n",
    "from selenium import webdriver\n",
    "\n",
    "from selenium.webdriver.chrome.options import Options\n",
    "from webdriver_manager.chrome import ChromeDriverManager\n",
    "\n",
    "from bs4 import BeautifulSoup as bs\n",
    "\n",
    "# for visualization\n",
    "import seaborn as sns\n",
    "import matplotlib.pyplot as plt\n",
    "\n",
    "# for extraction\n",
    "from geograpy import extraction\n",
    "import nltk\n",
    "nltk.download('maxent_ne_chunker')\n",
    "\n",
    "# for organization\n",
    "from collections import Counter\n",
    "\n",
    "import time\n",
    "from datetime import datetime\n"
   ]
  },
  {
   "cell_type": "markdown",
   "metadata": {},
   "source": [
    "#### Configurations"
   ]
  },
  {
   "cell_type": "code",
   "execution_count": 128,
   "metadata": {},
   "outputs": [],
   "source": [
    "import warnings\n",
    "warnings.filterwarnings('ignore')\n",
    "\n",
    "#Disable chrome Notifications\n",
    "chrome_options = Options()\n",
    "chrome_options.add_argument(\"--disable-notifications\")\n",
    "\n",
    "#Install latest chrome drivers\n",
    "#driver = webdriver.chrome(service=Service(ChromeDriverManager().install()))\n",
    "\n",
    "#Thanks stackoverflow @pythonjar\n",
    "#chrome_options = webdriver.ChromeOptions()\n",
    "prefs = {\"profile.default_content_setting_values.notifications\" : 2}\n",
    "chrome_options.add_experimental_option(\"prefs\",prefs)\n",
    "\n",
    "#specify the path to chromedriver.exe (download and save on your computer)\n",
    "browser = webdriver.Chrome('/home/nano-ai/chromedriver' , chrome_options=chrome_options)"
   ]
  },
  {
   "cell_type": "markdown",
   "metadata": {},
   "source": [
    "### Automatic Login to Social Media"
   ]
  },
  {
   "cell_type": "code",
   "execution_count": 129,
   "metadata": {},
   "outputs": [
    {
     "name": "stdout",
     "output_type": "stream",
     "text": [
      "Enter the Company Linkedin URL: https://www.linkedin.com/school/udacity/posts/?feedView=all\n"
     ]
    }
   ],
   "source": [
    "#Get the Company's  URL from User\n",
    "page = input(\"Enter the Company Linkedin URL: \")\n",
    "company_name = page[33:-1]\n",
    "\n",
    "#See if existing user credential file exists or create one \n",
    "try:\n",
    "    f= open(\"linkedin_credentials.txt\",\"r\")\n",
    "    contents = f.read()\n",
    "    username = contents.replace(\"=\",\",\").split(\",\")[1]\n",
    "    password = contents.replace(\"=\",\",\").split(\",\")[3]\n",
    "except:\n",
    "    f= open(\"linkedin_credentials.txt\",\"w+\")\n",
    "    username = input('Enter your linkedin username: ')\n",
    "    password = input('Enter your linkedin password: ')\n",
    "    f.write(\"username={}, password={}\".format(username,password))\n",
    "    f.close()\n"
   ]
  },
  {
   "cell_type": "code",
   "execution_count": null,
   "metadata": {},
   "outputs": [],
   "source": []
  },
  {
   "cell_type": "code",
   "execution_count": null,
   "metadata": {},
   "outputs": [],
   "source": []
  },
  {
   "cell_type": "markdown",
   "metadata": {},
   "source": [
    "#### Navigate to facebook page/group"
   ]
  },
  {
   "cell_type": "code",
   "execution_count": 130,
   "metadata": {},
   "outputs": [
    {
     "ename": "WebDriverException",
     "evalue": "Message: unknown error: net::ERR_NAME_NOT_RESOLVED\n  (Session info: chrome=100.0.4896.127)\nStacktrace:\n#0 0x55940afc37d3 <unknown>\n#1 0x55940ad1f688 <unknown>\n#2 0x55940ad19640 <unknown>\n#3 0x55940ad0ad26 <unknown>\n#4 0x55940ad0bc0e <unknown>\n#5 0x55940ad0aff2 <unknown>\n#6 0x55940ad0a4a5 <unknown>\n#7 0x55940ad09190 <unknown>\n#8 0x55940ad095b2 <unknown>\n#9 0x55940ad2104a <unknown>\n#10 0x55940ad8726f <unknown>\n#11 0x55940ad736b2 <unknown>\n#12 0x55940ad86a0c <unknown>\n#13 0x55940ad735a3 <unknown>\n#14 0x55940ad48ddc <unknown>\n#15 0x55940ad49de5 <unknown>\n#16 0x55940aff449d <unknown>\n#17 0x55940b00d60c <unknown>\n#18 0x55940aff6205 <unknown>\n#19 0x55940b00dee5 <unknown>\n#20 0x55940afea070 <unknown>\n#21 0x55940b029488 <unknown>\n#22 0x55940b02960c <unknown>\n#23 0x55940b042c6d <unknown>\n#24 0x7fae9324d609 <unknown>\n",
     "output_type": "error",
     "traceback": [
      "\u001b[0;31m---------------------------------------------------------------------------\u001b[0m",
      "\u001b[0;31mWebDriverException\u001b[0m                        Traceback (most recent call last)",
      "\u001b[0;32m<ipython-input-130-859363c8a51f>\u001b[0m in \u001b[0;36m<module>\u001b[0;34m\u001b[0m\n\u001b[1;32m      5\u001b[0m \u001b[0;34m\u001b[0m\u001b[0m\n\u001b[1;32m      6\u001b[0m \u001b[0;31m#Open login page\u001b[0m\u001b[0;34m\u001b[0m\u001b[0;34m\u001b[0m\u001b[0;34m\u001b[0m\u001b[0m\n\u001b[0;32m----> 7\u001b[0;31m \u001b[0mbrowser\u001b[0m\u001b[0;34m.\u001b[0m\u001b[0mget\u001b[0m\u001b[0;34m(\u001b[0m\u001b[0;34m'https://www.linkedin.com/login?fromSignIn=true&trk=guest_homepage-basic_nav-header-signin'\u001b[0m\u001b[0;34m)\u001b[0m\u001b[0;34m\u001b[0m\u001b[0;34m\u001b[0m\u001b[0m\n\u001b[0m\u001b[1;32m      8\u001b[0m \u001b[0;34m\u001b[0m\u001b[0m\n\u001b[1;32m      9\u001b[0m \u001b[0;31m#Enter login info:\u001b[0m\u001b[0;34m\u001b[0m\u001b[0;34m\u001b[0m\u001b[0;34m\u001b[0m\u001b[0m\n",
      "\u001b[0;32m~/anaconda3/lib/python3.8/site-packages/selenium/webdriver/remote/webdriver.py\u001b[0m in \u001b[0;36mget\u001b[0;34m(self, url)\u001b[0m\n\u001b[1;32m    434\u001b[0m         \u001b[0mLoads\u001b[0m \u001b[0ma\u001b[0m \u001b[0mweb\u001b[0m \u001b[0mpage\u001b[0m \u001b[0;32min\u001b[0m \u001b[0mthe\u001b[0m \u001b[0mcurrent\u001b[0m \u001b[0mbrowser\u001b[0m \u001b[0msession\u001b[0m\u001b[0;34m.\u001b[0m\u001b[0;34m\u001b[0m\u001b[0;34m\u001b[0m\u001b[0m\n\u001b[1;32m    435\u001b[0m         \"\"\"\n\u001b[0;32m--> 436\u001b[0;31m         \u001b[0mself\u001b[0m\u001b[0;34m.\u001b[0m\u001b[0mexecute\u001b[0m\u001b[0;34m(\u001b[0m\u001b[0mCommand\u001b[0m\u001b[0;34m.\u001b[0m\u001b[0mGET\u001b[0m\u001b[0;34m,\u001b[0m \u001b[0;34m{\u001b[0m\u001b[0;34m'url'\u001b[0m\u001b[0;34m:\u001b[0m \u001b[0murl\u001b[0m\u001b[0;34m}\u001b[0m\u001b[0;34m)\u001b[0m\u001b[0;34m\u001b[0m\u001b[0;34m\u001b[0m\u001b[0m\n\u001b[0m\u001b[1;32m    437\u001b[0m \u001b[0;34m\u001b[0m\u001b[0m\n\u001b[1;32m    438\u001b[0m     \u001b[0;34m@\u001b[0m\u001b[0mproperty\u001b[0m\u001b[0;34m\u001b[0m\u001b[0;34m\u001b[0m\u001b[0m\n",
      "\u001b[0;32m~/anaconda3/lib/python3.8/site-packages/selenium/webdriver/remote/webdriver.py\u001b[0m in \u001b[0;36mexecute\u001b[0;34m(self, driver_command, params)\u001b[0m\n\u001b[1;32m    422\u001b[0m         \u001b[0mresponse\u001b[0m \u001b[0;34m=\u001b[0m \u001b[0mself\u001b[0m\u001b[0;34m.\u001b[0m\u001b[0mcommand_executor\u001b[0m\u001b[0;34m.\u001b[0m\u001b[0mexecute\u001b[0m\u001b[0;34m(\u001b[0m\u001b[0mdriver_command\u001b[0m\u001b[0;34m,\u001b[0m \u001b[0mparams\u001b[0m\u001b[0;34m)\u001b[0m\u001b[0;34m\u001b[0m\u001b[0;34m\u001b[0m\u001b[0m\n\u001b[1;32m    423\u001b[0m         \u001b[0;32mif\u001b[0m \u001b[0mresponse\u001b[0m\u001b[0;34m:\u001b[0m\u001b[0;34m\u001b[0m\u001b[0;34m\u001b[0m\u001b[0m\n\u001b[0;32m--> 424\u001b[0;31m             \u001b[0mself\u001b[0m\u001b[0;34m.\u001b[0m\u001b[0merror_handler\u001b[0m\u001b[0;34m.\u001b[0m\u001b[0mcheck_response\u001b[0m\u001b[0;34m(\u001b[0m\u001b[0mresponse\u001b[0m\u001b[0;34m)\u001b[0m\u001b[0;34m\u001b[0m\u001b[0;34m\u001b[0m\u001b[0m\n\u001b[0m\u001b[1;32m    425\u001b[0m             response['value'] = self._unwrap_value(\n\u001b[1;32m    426\u001b[0m                 response.get('value', None))\n",
      "\u001b[0;32m~/anaconda3/lib/python3.8/site-packages/selenium/webdriver/remote/errorhandler.py\u001b[0m in \u001b[0;36mcheck_response\u001b[0;34m(self, response)\u001b[0m\n\u001b[1;32m    245\u001b[0m                 \u001b[0malert_text\u001b[0m \u001b[0;34m=\u001b[0m \u001b[0mvalue\u001b[0m\u001b[0;34m[\u001b[0m\u001b[0;34m'alert'\u001b[0m\u001b[0;34m]\u001b[0m\u001b[0;34m.\u001b[0m\u001b[0mget\u001b[0m\u001b[0;34m(\u001b[0m\u001b[0;34m'text'\u001b[0m\u001b[0;34m)\u001b[0m\u001b[0;34m\u001b[0m\u001b[0;34m\u001b[0m\u001b[0m\n\u001b[1;32m    246\u001b[0m             \u001b[0;32mraise\u001b[0m \u001b[0mexception_class\u001b[0m\u001b[0;34m(\u001b[0m\u001b[0mmessage\u001b[0m\u001b[0;34m,\u001b[0m \u001b[0mscreen\u001b[0m\u001b[0;34m,\u001b[0m \u001b[0mstacktrace\u001b[0m\u001b[0;34m,\u001b[0m \u001b[0malert_text\u001b[0m\u001b[0;34m)\u001b[0m  \u001b[0;31m# type: ignore[call-arg]  # mypy is not smart enough here\u001b[0m\u001b[0;34m\u001b[0m\u001b[0;34m\u001b[0m\u001b[0m\n\u001b[0;32m--> 247\u001b[0;31m         \u001b[0;32mraise\u001b[0m \u001b[0mexception_class\u001b[0m\u001b[0;34m(\u001b[0m\u001b[0mmessage\u001b[0m\u001b[0;34m,\u001b[0m \u001b[0mscreen\u001b[0m\u001b[0;34m,\u001b[0m \u001b[0mstacktrace\u001b[0m\u001b[0;34m)\u001b[0m\u001b[0;34m\u001b[0m\u001b[0;34m\u001b[0m\u001b[0m\n\u001b[0m\u001b[1;32m    248\u001b[0m \u001b[0;34m\u001b[0m\u001b[0m\n\u001b[1;32m    249\u001b[0m     \u001b[0;32mdef\u001b[0m \u001b[0m_value_or_default\u001b[0m\u001b[0;34m(\u001b[0m\u001b[0mself\u001b[0m\u001b[0;34m,\u001b[0m \u001b[0mobj\u001b[0m\u001b[0;34m:\u001b[0m \u001b[0mMapping\u001b[0m\u001b[0;34m[\u001b[0m\u001b[0m_KT\u001b[0m\u001b[0;34m,\u001b[0m \u001b[0m_VT\u001b[0m\u001b[0;34m]\u001b[0m\u001b[0;34m,\u001b[0m \u001b[0mkey\u001b[0m\u001b[0;34m:\u001b[0m \u001b[0m_KT\u001b[0m\u001b[0;34m,\u001b[0m \u001b[0mdefault\u001b[0m\u001b[0;34m:\u001b[0m \u001b[0m_VT\u001b[0m\u001b[0;34m)\u001b[0m \u001b[0;34m->\u001b[0m \u001b[0m_VT\u001b[0m\u001b[0;34m:\u001b[0m\u001b[0;34m\u001b[0m\u001b[0;34m\u001b[0m\u001b[0m\n",
      "\u001b[0;31mWebDriverException\u001b[0m: Message: unknown error: net::ERR_NAME_NOT_RESOLVED\n  (Session info: chrome=100.0.4896.127)\nStacktrace:\n#0 0x55940afc37d3 <unknown>\n#1 0x55940ad1f688 <unknown>\n#2 0x55940ad19640 <unknown>\n#3 0x55940ad0ad26 <unknown>\n#4 0x55940ad0bc0e <unknown>\n#5 0x55940ad0aff2 <unknown>\n#6 0x55940ad0a4a5 <unknown>\n#7 0x55940ad09190 <unknown>\n#8 0x55940ad095b2 <unknown>\n#9 0x55940ad2104a <unknown>\n#10 0x55940ad8726f <unknown>\n#11 0x55940ad736b2 <unknown>\n#12 0x55940ad86a0c <unknown>\n#13 0x55940ad735a3 <unknown>\n#14 0x55940ad48ddc <unknown>\n#15 0x55940ad49de5 <unknown>\n#16 0x55940aff449d <unknown>\n#17 0x55940b00d60c <unknown>\n#18 0x55940aff6205 <unknown>\n#19 0x55940b00dee5 <unknown>\n#20 0x55940afea070 <unknown>\n#21 0x55940b029488 <unknown>\n#22 0x55940b02960c <unknown>\n#23 0x55940b042c6d <unknown>\n#24 0x7fae9324d609 <unknown>\n"
     ]
    }
   ],
   "source": [
    "#accessing Chromedriver\n",
    "# browser = webdriver.Chrome('chromedriver')\n",
    "browser.maximize_window()\n",
    "time.sleep(2)\n",
    "\n",
    "#Open login page\n",
    "browser.get('https://www.linkedin.com/login?fromSignIn=true&trk=guest_homepage-basic_nav-header-signin')\n",
    "\n",
    "#Enter login info:\n",
    "elementID = browser.find_element_by_id('username')\n",
    "elementID.send_keys(username)\n",
    "\n",
    "elementID = browser.find_element_by_id('password')\n",
    "elementID.send_keys(password)\n",
    "elementID.submit()"
   ]
  },
  {
   "cell_type": "code",
   "execution_count": null,
   "metadata": {},
   "outputs": [],
   "source": [
    "#Go to company post webpage\n",
    "browser.get(page)\n",
    "\n",
    "\n",
    "#Simulate scrolling to capture all posts\n",
    "SCROLL_PAUSE_TIME = 1.5\n",
    "\n",
    "# Get scroll height\n",
    "last_height = browser.execute_script(\"return document.body.scrollHeight\")\n",
    "\n",
    "while True:\n",
    "    # Scroll down to bottom\n",
    "    browser.execute_script(\"window.scrollTo(0, document.body.scrollHeight);\")\n",
    "\n",
    "    # Wait to load page\n",
    "    time.sleep(SCROLL_PAUSE_TIME)\n",
    "\n",
    "    # Calculate new scroll height and compare with last scroll height\n",
    "    new_height = browser.execute_script(\"return document.body.scrollHeight\")\n",
    "    if new_height == last_height:\n",
    "        break\n",
    "    last_height = new_height"
   ]
  },
  {
   "cell_type": "markdown",
   "metadata": {},
   "source": [
    "### Check page source code"
   ]
  },
  {
   "cell_type": "code",
   "execution_count": null,
   "metadata": {},
   "outputs": [],
   "source": [
    "#Check out page source code\n",
    "company_page = browser.page_source  \n",
    "\n",
    "\n",
    "#Use Beautiful Soup to get access tags\n",
    "linkedin_soup = bs(company_page.encode(\"utf-8\"), \"html\")\n",
    "linkedin_soup.prettify()\n",
    "\n",
    "#Find the post blocks\n",
    "containers = linkedin_soup.findAll(\"div\",{\"class\":\"occludable-update ember-view\"})"
   ]
  },
  {
   "cell_type": "markdown",
   "metadata": {},
   "source": [
    "### Data Scraping"
   ]
  },
  {
   "cell_type": "code",
   "execution_count": null,
   "metadata": {},
   "outputs": [],
   "source": [
    "<div class=\"org-top-card-summary-info-list__info-item\">\n",
    "        78,339+ alumni\n",
    "      </div>"
   ]
  },
  {
   "cell_type": "code",
   "execution_count": null,
   "metadata": {},
   "outputs": [],
   "source": [
    "# Lists that we will iterate to\n",
    "post_dates = []\n",
    "post_texts = []\n",
    "post_likes = []\n",
    "post_comments = []\n",
    "video_views = []\n",
    "media_links = []\n",
    "media_type = []\n",
    "company = []\n",
    "followers = []\n",
    "alumni = []\n",
    "place = []\n",
    "\n",
    "\n",
    "#Looping through the posts and appending them to the lists\n",
    "for container in containers:\n",
    "    \n",
    "    #Try function to make sure its a post and not a promotion\n",
    "    try:\n",
    "        posted_date = container.find(\"span\",{\"class\":\"visually-hidden\"})\n",
    "        text_box = container.find(\"div\",{\"class\":\"feed-shared-text relative feed-shared-update-v2__commentary\"})\n",
    "        text = text_box.find(\"span\",{\"dir\":\"ltr\"})\n",
    "        new_likes = container.findAll(\"span\", {\"class\":\"social-details-social-counts__reactions-count\"})\n",
    "        new_comments = container.findAll(\"li\", {\"class\": \"social-details-social-counts__item social-details-social-counts__comments social-details-social-counts__item--with-social-proof\"})\n",
    "        company_name = container.findAll(\"span\" , {\"class\":\"feed-shared-actor__name t-14 t-bold hoverable-link-text t-black\"})\n",
    "        num_followers = container.findAll(\"span\" , {\"feed-shared-actor__description t-12 t-normal t-black--light\"})\n",
    "        company_place = container.findAll(\"div\" , {\"class\":\"org-top-card-summary-info-list__info-item\"})\n",
    "        num_alumni = container.findAll(\"div\" , {\"class\":\"org-top-card-summary-info-list__info-item\"})\n",
    "\n",
    "        \n",
    "        #Appending date and text to lists\n",
    "        post_dates.append(posted_date.text.strip())\n",
    "        post_texts.append(text_box.text.strip())\n",
    "\n",
    "\n",
    "        #Determining media type and collecting relevant info for each type\n",
    "        try:\n",
    "            video_box = container.findAll(\"div\",{\"class\": \"feed-shared-update-v2__content feed-shared-linkedin-video ember-view\"})\n",
    "            video_link = video_box[0].find(\"video\", {\"class\":\"vjs-tech\"})\n",
    "            media_links.append(video_link['src'])\n",
    "            media_type.append(\"Video\")\n",
    "        except:\n",
    "            try:\n",
    "                image_box = container.findAll(\"div\",{\"class\": \"feed-shared-image__container\"})\n",
    "                image_link = image_box[0].find(\"img\", {\"class\":\"ivm-view-attr__img--centered feed-shared-image__image feed-shared-image__image--constrained lazy-image ember-view\"})\n",
    "                media_links.append(image_link['src'])\n",
    "                media_type.append(\"Image\")\n",
    "            except:\n",
    "                try:\n",
    "                    image_box = container.findAll(\"div\",{\"class\": \"feed-shared-image__container\"})\n",
    "                    image_link = image_box[0].find(\"img\", {\"class\":\"ivm-view-attr__img--centered feed-shared-image__image lazy-image ember-view\"})\n",
    "                    media_links.append(image_link['src'])\n",
    "                    media_type.append(\"Image\")\n",
    "                except:\n",
    "                    try:\n",
    "                        article_box = container.findAll(\"div\",{\"class\": \"feed-shared-article__description-container\"})\n",
    "                        article_link = article_box[0].find('a', href=True)\n",
    "                        media_links.append(article_link['href'])\n",
    "                        media_type.append(\"Article\")\n",
    "                    except:\n",
    "                        try:\n",
    "                            video_box = container.findAll(\"div\",{\"class\": \"feed-shared-external-video__meta\"})          \n",
    "                            video_link = video_box[0].find('a', href=True)\n",
    "                            media_links.append(video_link['href'])\n",
    "                            media_type.append(\"Youtube Video\")   \n",
    "                        except:\n",
    "                            try:\n",
    "                                poll_box = container.findAll(\"div\",{\"class\": \"feed-shared-update-v2__content overflow-hidden feed-shared-poll ember-view\"})\n",
    "                                media_links.append(\"None\")\n",
    "                                media_type.append(\"Other: Poll, Shared Post, etc\")\n",
    "                            except:\n",
    "                                media_links.append(\"None\")\n",
    "                                media_type.append(\"Unknown\")\n",
    "\n",
    "\n",
    "\n",
    "        #Getting Video Views. (The folling three lines prevents class name overlap)\n",
    "        view_container2 = set(container.findAll(\"li\", {'class':[\"social-details-social-counts__item\"]}))\n",
    "        view_container1 = set(container.findAll(\"li\", {'class':[\"social-details-social-counts__reactions\",\"social-details-social-counts__comments social-details-social-counts__item\"]}))\n",
    "        result = view_container2 - view_container1\n",
    "\n",
    "        view_container = []\n",
    "        for i in result:\n",
    "            view_container += i\n",
    "\n",
    "        try:\n",
    "            video_views.append(view_container[1].text.strip())\n",
    "\n",
    "        except:\n",
    "            video_views.append('N/A')\n",
    "\n",
    "        \n",
    "        #Appending likes and comments if they exist\n",
    "        try:\n",
    "            post_likes.append(new_likes[0].text.strip())\n",
    "        except:\n",
    "            post_likes.append(0)\n",
    "            pass\n",
    "\n",
    "        try:\n",
    "            post_comments.append(new_comments[0].text.strip())\n",
    "        except:                                                           \n",
    "            post_comments.append(0)\n",
    "            \n",
    "            pass\n",
    "        try:\n",
    "            company.append(company_name[0].text.strip())\n",
    "            \n",
    "        except:\n",
    "            company.append(0)\n",
    "            \n",
    "        try:\n",
    "            followers.append(num_followers[0].text.strip())\n",
    "            place.append(company_place[0].text.strip())\n",
    "            alumni.append(new_alumni[0].text.strip())\n",
    "\n",
    "        except:\n",
    "            followers.append(0)\n",
    "            place.append(0)\n",
    "            alumni.append(0)\n",
    "    \n",
    "    except:\n",
    "        pass\n"
   ]
  },
  {
   "cell_type": "code",
   "execution_count": null,
   "metadata": {},
   "outputs": [],
   "source": [
    "#Stripping non-numeric values\n",
    "comment_count = []\n",
    "for i in post_comments:\n",
    "    s = str(i).replace('Comment','').replace('s','').replace(' ','')\n",
    "    comment_count += [s]"
   ]
  },
  {
   "cell_type": "code",
   "execution_count": null,
   "metadata": {},
   "outputs": [],
   "source": [
    "data = {\n",
    "    \"Company\": company,\n",
    "    \"Place\":place,\n",
    "    \"Date Posted\": post_dates,\n",
    "    \"Media Type\": media_type,\n",
    "    \"Post Text\": post_texts,\n",
    "    \"Post Likes\": post_likes,\n",
    "    \"Post Comments\": comment_count,\n",
    "    \"Video Views\": video_views,\n",
    "    \"Media Links\": media_links,\n",
    "    \"Alumni\":alumni,\n",
    "    \"Followers\":followers\n",
    "}\n",
    "\n",
    "df = pd.DataFrame(data)"
   ]
  },
  {
   "cell_type": "code",
   "execution_count": null,
   "metadata": {},
   "outputs": [],
   "source": []
  },
  {
   "cell_type": "code",
   "execution_count": null,
   "metadata": {},
   "outputs": [],
   "source": [
    "df.tail(50)"
   ]
  },
  {
   "cell_type": "code",
   "execution_count": null,
   "metadata": {},
   "outputs": [],
   "source": [
    "data['Company'][0]"
   ]
  },
  {
   "cell_type": "markdown",
   "metadata": {},
   "source": [
    "### Data Preprocessing"
   ]
  },
  {
   "cell_type": "markdown",
   "metadata": {},
   "source": [
    "#### Convert Dataframe to CSV File"
   ]
  },
  {
   "cell_type": "code",
   "execution_count": 120,
   "metadata": {},
   "outputs": [],
   "source": [
    "#Exporting as csv file to program folder\n",
    "df.to_csv(\"{}_posts.csv\".format(df['Company'][0]), encoding='utf-8', index=False)"
   ]
  },
  {
   "cell_type": "markdown",
   "metadata": {},
   "source": [
    "#### Save csv file to Coud Storage (Aws Elastic File Storage)"
   ]
  },
  {
   "cell_type": "code",
   "execution_count": null,
   "metadata": {},
   "outputs": [],
   "source": []
  },
  {
   "cell_type": "markdown",
   "metadata": {},
   "source": [
    "### Exploratory Data Analysis (EDA)"
   ]
  },
  {
   "cell_type": "code",
   "execution_count": null,
   "metadata": {},
   "outputs": [],
   "source": []
  },
  {
   "cell_type": "code",
   "execution_count": null,
   "metadata": {},
   "outputs": [],
   "source": []
  }
 ],
 "metadata": {
  "kernelspec": {
   "display_name": "Python 3",
   "language": "python",
   "name": "python3"
  },
  "language_info": {
   "codemirror_mode": {
    "name": "ipython",
    "version": 3
   },
   "file_extension": ".py",
   "mimetype": "text/x-python",
   "name": "python",
   "nbconvert_exporter": "python",
   "pygments_lexer": "ipython3",
   "version": "3.8.3"
  }
 },
 "nbformat": 4,
 "nbformat_minor": 4
}
