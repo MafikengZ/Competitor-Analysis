{
 "cells": [
  {
   "cell_type": "markdown",
   "metadata": {},
   "source": [
    "## Competative Social Media Analysis\n",
    "\n",
    "**Explore Data Science Academy** wants to develop a marketing startegy to ensure that all social media content posted reaches the inteded target market or audiance and that our social media market are growing in engagement and also analysing our growing social media engagement as compared to the competitors."
   ]
  },
  {
   "cell_type": "markdown",
   "metadata": {},
   "source": [
    "#### Import Standard libraries"
   ]
  },
  {
   "cell_type": "code",
   "execution_count": 41,
   "metadata": {},
   "outputs": [
    {
     "name": "stderr",
     "output_type": "stream",
     "text": [
      "[nltk_data] Downloading package maxent_ne_chunker to /home/nano-\n",
      "[nltk_data]     ai/nltk_data...\n",
      "[nltk_data]   Package maxent_ne_chunker is already up-to-date!\n"
     ]
    }
   ],
   "source": [
    "import re\n",
    "import csv\n",
    "import pandas as pd\n",
    "\n",
    "import selenium\n",
    "from selenium import webdriver\n",
    "\n",
    "from selenium.webdriver.chrome.options import Options\n",
    "from webdriver_manager.chrome import ChromeDriverManager\n",
    "\n",
    "from bs4 import BeautifulSoup as bs\n",
    "\n",
    "# for visualization\n",
    "import seaborn as sns\n",
    "import matplotlib.pyplot as plt\n",
    "\n",
    "# for extraction\n",
    "from geograpy import extraction\n",
    "import nltk\n",
    "nltk.download('maxent_ne_chunker')\n",
    "\n",
    "# for organization\n",
    "from collections import Counter\n",
    "\n",
    "import time\n",
    "from datetime import datetime\n"
   ]
  },
  {
   "cell_type": "markdown",
   "metadata": {},
   "source": [
    "#### Configurations"
   ]
  },
  {
   "cell_type": "code",
   "execution_count": 42,
   "metadata": {},
   "outputs": [],
   "source": [
    "import warnings\n",
    "warnings.filterwarnings('ignore')\n",
    "\n",
    "#Disable chrome Notifications\n",
    "chrome_options = Options()\n",
    "chrome_options.add_argument(\"--disable-notifications\")\n",
    "\n",
    "#Install latest chrome drivers\n",
    "#driver = webdriver.chrome(service=Service(ChromeDriverManager().install()))\n",
    "\n",
    "#Thanks stackoverflow @pythonjar\n",
    "#chrome_options = webdriver.ChromeOptions()\n",
    "prefs = {\"profile.default_content_setting_values.notifications\" : 2}\n",
    "chrome_options.add_experimental_option(\"prefs\",prefs)\n",
    "\n",
    "#specify the path to chromedriver.exe (download and save on your computer)\n",
    "browser = webdriver.Chrome('/home/nano-ai/chromedriver' , chrome_options=chrome_options)"
   ]
  },
  {
   "cell_type": "markdown",
   "metadata": {},
   "source": [
    "### Automatic Login to Social Media"
   ]
  },
  {
   "cell_type": "code",
   "execution_count": 43,
   "metadata": {},
   "outputs": [
    {
     "name": "stdout",
     "output_type": "stream",
     "text": [
      "Enter the Company Linkedin URL: https://www.linkedin.com/company/explore-datascience/\n"
     ]
    }
   ],
   "source": [
    "#Get the Company's Facebook URL from User\n",
    "page = input(\"Enter the Company Linkedin URL: \")\n",
    "company_name = page[33:-1]\n",
    "\n",
    "#See if existing user credential file exists or create one \n",
    "try:\n",
    "    f= open(\"linkedin_credentials.txt\",\"r\")\n",
    "    contents = f.read()\n",
    "    username = contents.replace(\"=\",\",\").split(\",\")[1]\n",
    "    password = contents.replace(\"=\",\",\").split(\",\")[3]\n",
    "except:\n",
    "    f= open(\"linkedin_credentials.txt\",\"w+\")\n",
    "    username = input('Enter your linkedin username: ')\n",
    "    password = input('Enter your linkedin password: ')\n",
    "    f.write(\"username={}, password={}\".format(username,password))\n",
    "    f.close()"
   ]
  },
  {
   "cell_type": "markdown",
   "metadata": {},
   "source": [
    "#### Navigate to facebook page/group"
   ]
  },
  {
   "cell_type": "code",
   "execution_count": 44,
   "metadata": {},
   "outputs": [],
   "source": [
    "#accessing Chromedriver\n",
    "# browser = webdriver.Chrome('chromedriver')\n",
    "\n",
    "#Open login page\n",
    "browser.get('https://www.linkedin.com/login?fromSignIn=true&trk=guest_homepage-basic_nav-header-signin')\n",
    "\n",
    "#Enter login info:\n",
    "elementID = browser.find_element_by_id('username')\n",
    "elementID.send_keys(username)\n",
    "\n",
    "elementID = browser.find_element_by_id('password')\n",
    "elementID.send_keys(password)\n",
    "elementID.submit()"
   ]
  },
  {
   "cell_type": "code",
   "execution_count": 71,
   "metadata": {},
   "outputs": [],
   "source": [
    "#Go to company post webpage\n",
    "browser.get(page + 'posts/')\n",
    "\n",
    "\n",
    "#Simulate scrolling to capture all posts\n",
    "SCROLL_PAUSE_TIME = 1.5\n",
    "\n",
    "# Get scroll height\n",
    "last_height = browser.execute_script(\"return document.body.scrollHeight\")\n",
    "\n",
    "while True:\n",
    "    # Scroll down to bottom\n",
    "    browser.execute_script(\"window.scrollTo(0, document.body.scrollHeight);\")\n",
    "\n",
    "    # Wait to load page\n",
    "    time.sleep(SCROLL_PAUSE_TIME)\n",
    "\n",
    "    # Calculate new scroll height and compare with last scroll height\n",
    "    new_height = browser.execute_script(\"return document.body.scrollHeight\")\n",
    "    if new_height == last_height:\n",
    "        break\n",
    "    last_height = new_height"
   ]
  },
  {
   "cell_type": "markdown",
   "metadata": {},
   "source": [
    "### Check page source code"
   ]
  },
  {
   "cell_type": "code",
   "execution_count": 72,
   "metadata": {},
   "outputs": [],
   "source": [
    "#Check out page source code\n",
    "company_page = browser.page_source  \n",
    "\n",
    "\n",
    "#Use Beautiful Soup to get access tags\n",
    "linkedin_soup = bs(company_page.encode(\"utf-8\"), \"html\")\n",
    "linkedin_soup.prettify()\n",
    "\n",
    "#Find the post blocks\n",
    "containers = linkedin_soup.findAll(\"div\",{\"class\":\"occludable-update ember-view\"})"
   ]
  },
  {
   "cell_type": "markdown",
   "metadata": {},
   "source": [
    "### Data Scraping"
   ]
  },
  {
   "cell_type": "code",
   "execution_count": 73,
   "metadata": {},
   "outputs": [],
   "source": [
    "# Lists that we will iterate to\n",
    "post_dates = []\n",
    "post_texts = []\n",
    "post_likes = []\n",
    "post_comments = []\n",
    "video_views = []\n",
    "media_links = []\n",
    "media_type = []\n",
    "\n",
    "\n",
    "#Looping through the posts and appending them to the lists\n",
    "for container in containers:\n",
    "    \n",
    "    #Try function to make sure its a post and not a promotion\n",
    "    try:\n",
    "        posted_date = container.find(\"span\",{\"class\":\"visually-hidden\"})\n",
    "        text_box = container.find(\"div\",{\"class\":\"feed-shared-text relative feed-shared-update-v2__commentary\"})\n",
    "        text = text_box.find(\"span\",{\"dir\":\"ltr\"})\n",
    "        new_likes = container.findAll(\"li\", {\"class\":\"social-details-social-counts__reactions-count\"})\n",
    "        new_comments = container.findAll(\"li\", {\"class\": \"social-details-social-counts__item social-details-social-counts__comments\"})\n",
    "\n",
    "        #Appending date and text to lists\n",
    "        post_dates.append(posted_date.get_text())\n",
    "        post_texts.append(text_box.get_text())\n",
    "\n",
    "\n",
    "        #Determining media type and collecting relevant info for each type\n",
    "        try:\n",
    "            video_box = container.findAll(\"div\",{\"class\": \"feed-shared-linkedin-video__container\"})\n",
    "            video_link = video_box[0].find(\"video\", {\"class\":\"vjs-tech\"})\n",
    "            media_links.append(video_link['src'])\n",
    "            media_type.append(\"Video\")\n",
    "        except:\n",
    "            try:\n",
    "                image_box = container.findAll(\"div\",{\"class\": \"feed-shared-image__container\"})\n",
    "                image_link = image_box[0].find(\"img\", {\"class\":\"ivm-view-attr__img--centered feed-shared-image__image feed-shared-image__image--constrained lazy-image ember-view\"})\n",
    "                media_links.append(image_link['src'])\n",
    "                media_type.append(\"Image\")\n",
    "            except:\n",
    "                try:\n",
    "                    image_box = container.findAll(\"div\",{\"class\": \"feed-shared-image__container\"})\n",
    "                    image_link = image_box[0].find(\"img\", {\"class\":\"ivm-view-attr__img--centered feed-shared-image__image lazy-image ember-view\"})\n",
    "                    media_links.append(image_link['src'])\n",
    "                    media_type.append(\"Image\")\n",
    "                except:\n",
    "                    try:\n",
    "                        article_box = container.findAll(\"div\",{\"class\": \"feed-shared-article__description-container\"})\n",
    "                        article_link = article_box[0].find('a', href=True)\n",
    "                        media_links.append(article_link['href'])\n",
    "                        media_type.append(\"Article\")\n",
    "                    except:\n",
    "                        try:\n",
    "                            video_box = container.findAll(\"div\",{\"class\": \"feed-shared-external-video__meta\"})          \n",
    "                            video_link = video_box[0].find('a', href=True)\n",
    "                            media_links.append(video_link['href'])\n",
    "                            media_type.append(\"Youtube Video\")   \n",
    "                        except:\n",
    "                            try:\n",
    "                                poll_box = container.findAll(\"div\",{\"class\": \"feed-shared-update-v2__content overflow-hidden feed-shared-poll ember-view\"})\n",
    "                                media_links.append(\"None\")\n",
    "                                media_type.append(\"Other: Poll, Shared Post, etc\")\n",
    "                            except:\n",
    "                                media_links.append(\"None\")\n",
    "                                media_type.append(\"Unknown\")\n",
    "\n",
    "\n",
    "\n",
    "        #Getting Video Views. (The folling three lines prevents class name overlap)\n",
    "        view_container2 = set(container.findAll(\"li\", {'class':[\"social-details-social-counts__item\"]}))\n",
    "        view_container1 = set(container.findAll(\"li\", {'class':[\"social-details-social-counts__reactions\",\"social-details-social-counts__comments social-details-social-counts__item\"]}))\n",
    "        result = view_container2 - view_container1\n",
    "\n",
    "        view_container = []\n",
    "        for i in result:\n",
    "            view_container += i\n",
    "\n",
    "        try:\n",
    "            video_views.append(view_container[1].text.strip().replace(' Views',''))\n",
    "\n",
    "        except:\n",
    "            video_views.append('N/A')\n",
    "\n",
    "        \n",
    "        #Appending likes and comments if they exist\n",
    "        try:\n",
    "            post_likes.append(new_likes.get_text())\n",
    "        except:\n",
    "            post_likes.append(0)\n",
    "            pass\n",
    "\n",
    "        try:\n",
    "            post_comments.append(new_comments[0].text.strip())                           \n",
    "        except:                                                           \n",
    "            post_comments.append(0)\n",
    "            pass\n",
    "    \n",
    "    except:\n",
    "        pass\n"
   ]
  },
  {
   "cell_type": "code",
   "execution_count": 74,
   "metadata": {},
   "outputs": [],
   "source": [
    "#Stripping non-numeric values\n",
    "comment_count = []\n",
    "for i in post_comments:\n",
    "    s = str(i).replace('Comment','').replace('s','').replace(' ','')\n",
    "    comment_count += [s]"
   ]
  },
  {
   "cell_type": "code",
   "execution_count": 75,
   "metadata": {},
   "outputs": [],
   "source": [
    "attr = {\n",
    "    \"Date Posted\": post_dates,\n",
    "    \"Media Type\": media_type,\n",
    "    \"Post Text\": post_texts,\n",
    "    \"Post Likes\": post_likes,\n",
    "    \"Post Comments\": comment_count,\n",
    "    \"Video Views\": video_views,\n",
    "    \"Media Links\": media_links\n",
    "}\n",
    "\n",
    "data = pd.DataFrame(attr)"
   ]
  },
  {
   "cell_type": "code",
   "execution_count": 79,
   "metadata": {},
   "outputs": [
    {
     "data": {
      "text/html": [
       "<div>\n",
       "<style scoped>\n",
       "    .dataframe tbody tr th:only-of-type {\n",
       "        vertical-align: middle;\n",
       "    }\n",
       "\n",
       "    .dataframe tbody tr th {\n",
       "        vertical-align: top;\n",
       "    }\n",
       "\n",
       "    .dataframe thead th {\n",
       "        text-align: right;\n",
       "    }\n",
       "</style>\n",
       "<table border=\"1\" class=\"dataframe\">\n",
       "  <thead>\n",
       "    <tr style=\"text-align: right;\">\n",
       "      <th></th>\n",
       "      <th>Date Posted</th>\n",
       "      <th>Media Type</th>\n",
       "      <th>Post Text</th>\n",
       "      <th>Post Likes</th>\n",
       "      <th>Post Comments</th>\n",
       "      <th>Video Views</th>\n",
       "      <th>Media Links</th>\n",
       "    </tr>\n",
       "  </thead>\n",
       "  <tbody>\n",
       "    <tr>\n",
       "      <th>0</th>\n",
       "      <td>2 months ago</td>\n",
       "      <td>Image</td>\n",
       "      <td>\\n\\n\\nOne week to go until our part-time 2022 ...</td>\n",
       "      <td>0</td>\n",
       "      <td>0</td>\n",
       "      <td>6 comments</td>\n",
       "      <td>https://media-exp1.licdn.com/dms/image/C5622AQ...</td>\n",
       "    </tr>\n",
       "    <tr>\n",
       "      <th>1</th>\n",
       "      <td>3 days ago</td>\n",
       "      <td>Image</td>\n",
       "      <td>\\n\\n\\nIf data wrangling is your thing, then ma...</td>\n",
       "      <td>0</td>\n",
       "      <td>0</td>\n",
       "      <td>N/A</td>\n",
       "      <td>https://media-exp1.licdn.com/dms/image/C5622AQ...</td>\n",
       "    </tr>\n",
       "  </tbody>\n",
       "</table>\n",
       "</div>"
      ],
      "text/plain": [
       "    Date Posted Media Type                                          Post Text  \\\n",
       "0  2 months ago      Image  \\n\\n\\nOne week to go until our part-time 2022 ...   \n",
       "1    3 days ago      Image  \\n\\n\\nIf data wrangling is your thing, then ma...   \n",
       "\n",
       "   Post Likes Post Comments Video Views  \\\n",
       "0           0             0  6 comments   \n",
       "1           0             0         N/A   \n",
       "\n",
       "                                         Media Links  \n",
       "0  https://media-exp1.licdn.com/dms/image/C5622AQ...  \n",
       "1  https://media-exp1.licdn.com/dms/image/C5622AQ...  "
      ]
     },
     "execution_count": 79,
     "metadata": {},
     "output_type": "execute_result"
    }
   ],
   "source": [
    "data"
   ]
  },
  {
   "cell_type": "code",
   "execution_count": 77,
   "metadata": {},
   "outputs": [
    {
     "data": {
      "text/plain": [
       "'https://media-exp1.licdn.com/dms/image/C5622AQFBrc4xbNXzmA/feedshare-shrink_800/0/1641802427685?e=2147483647&v=beta&t=09XSfbNCadyU4MIWDlnhcgscoGcRjDsXxkBP6BmEhsM'"
      ]
     },
     "execution_count": 77,
     "metadata": {},
     "output_type": "execute_result"
    }
   ],
   "source": [
    "data['Media Links'][0]"
   ]
  },
  {
   "cell_type": "markdown",
   "metadata": {},
   "source": [
    "### Data Preprocessing"
   ]
  },
  {
   "cell_type": "markdown",
   "metadata": {},
   "source": [
    "#### Convert Dataframe to CSV File"
   ]
  },
  {
   "cell_type": "code",
   "execution_count": null,
   "metadata": {},
   "outputs": [],
   "source": [
    "#Exporting as csv file to program folder\n",
    "data.to_csv(\"{}_posts.csv\".format(company_name), encoding='utf-8', index=False)"
   ]
  },
  {
   "cell_type": "markdown",
   "metadata": {},
   "source": [
    "#### Save csv file to Coud Storage (Aws Elastic File Storage)"
   ]
  },
  {
   "cell_type": "code",
   "execution_count": null,
   "metadata": {},
   "outputs": [],
   "source": []
  },
  {
   "cell_type": "markdown",
   "metadata": {},
   "source": [
    "### Exploratory Data Analysis (EDA)"
   ]
  },
  {
   "cell_type": "code",
   "execution_count": null,
   "metadata": {},
   "outputs": [],
   "source": []
  },
  {
   "cell_type": "code",
   "execution_count": null,
   "metadata": {},
   "outputs": [],
   "source": []
  }
 ],
 "metadata": {
  "kernelspec": {
   "display_name": "Python 3",
   "language": "python",
   "name": "python3"
  },
  "language_info": {
   "codemirror_mode": {
    "name": "ipython",
    "version": 3
   },
   "file_extension": ".py",
   "mimetype": "text/x-python",
   "name": "python",
   "nbconvert_exporter": "python",
   "pygments_lexer": "ipython3",
   "version": "3.8.3"
  }
 },
 "nbformat": 4,
 "nbformat_minor": 4
}
